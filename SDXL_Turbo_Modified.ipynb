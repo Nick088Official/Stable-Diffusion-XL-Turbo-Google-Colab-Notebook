{
  "nbformat": 4,
  "nbformat_minor": 0,
  "metadata": {
    "colab": {
      "provenance": [],
      "gpuType": "T4",
      "include_colab_link": true
    },
    "kernelspec": {
      "name": "python3",
      "display_name": "Python 3"
    },
    "language_info": {
      "name": "python"
    },
    "accelerator": "GPU"
  },
  "cells": [
    {
      "cell_type": "markdown",
      "metadata": {
        "id": "view-in-github",
        "colab_type": "text"
      },
      "source": [
        "<a href=\"https://colab.research.google.com/github/Nick088Official/Stable-Diffusion-XL-Turbo-UI-Google-Colab-Notebook/blob/main/SDXL_Turbo_Modified.ipynb\" target=\"_parent\"><img src=\"https://colab.research.google.com/assets/colab-badge.svg\" alt=\"Open In Colab\"/></a>"
      ]
    },
    {
      "cell_type": "markdown",
      "source": [
        "# SDXL - Turbo Demo by Simone Rizzo and Modified by Nick088\n",
        "This notebook is a demo to try Stability AI's new real-time text-to-image model, SDXL-turbo by [Stability AI](https://stability.ai/news/stability-ai-sdxl-turbo).\n",
        "\n",
        "**Please note**: Set the T4 Free Video Card from Edit -> Notebook Settings -> T4 GPU\n",
        "\n",
        "Demo made by **Simone Rizzo**:\n",
        "- [Youtube](https://www.youtube.com/channel/UCbMlkb79E12CwveGAtdFj-A)\n",
        "- [Linkedin](https://www.linkedin.com/in/simone-rizzo-9851b7147/)\n",
        "- [TikTok](https://www.tiktok.com/@simonerizzo98)\n",
        "\n",
        "Modified by **Nick088**:\n",
        "- [Youtube](https://www.youtube.com/channel/@Nick088Official)\n",
        "- [TikTok](https://www.tiktok.com/@forgotforever)\n",
        "- [Reddit](reddit.com/user/Nick088Real)\n",
        "- [Twitter](https://twitter.com/Nick088Official)\n",
        "- [Discord](https://discord.com/channels/@me/911742715019001897)\n",
        "\n",
        "Follow me and leave a like on my socials 😜\n"
      ],
      "metadata": {
        "id": "Ziad-5T4NEO_"
      }
    },
    {
      "cell_type": "markdown",
      "metadata": {
        "id": "vsfWtUCSGrrl"
      },
      "source": [
        "**INSTALL STABLE DIFFUSION XL TURBO**"
      ]
    },
    {
      "cell_type": "code",
      "source": [
        "!pip install --upgrade torch\n",
        "! pip install gradio\n",
        "! pip install diffusers transformers accelerate --upgrade"
      ],
      "metadata": {
        "id": "reJI4Q9TKO1f"
      },
      "execution_count": null,
      "outputs": []
    },
    {
      "cell_type": "markdown",
      "source": [
        "If necessary, restart the runtime: Runtime -> Restart Runtime!"
      ],
      "metadata": {
        "id": "SNVcZz_EM_Ko"
      }
    },
    {
      "cell_type": "markdown",
      "metadata": {
        "id": "Y6Y7uof5QWBP"
      },
      "source": [
        "**RUN STABLE DIFFUSION XL TURBO**\n",
        "\n",
        "At the end there will be Gradio's UI"
      ]
    },
    {
      "cell_type": "code",
      "source": [
        "from diffusers import AutoPipelineForText2Image\n",
        "import torch\n",
        "import gradio as gr\n",
        "\n",
        "# Initialize the pipeline and download the model\n",
        "pipe = AutoPipelineForText2Image.from_pretrained(\"stabilityai/sdxl-turbo\", torch_dtype=torch.float16, variant=\"fp16\")\n",
        "pipe.to(\"cuda\")\n",
        "\n",
        "# Define the image generation function\n",
        "def generate_image(prompt):\n",
        "    image = pipe(prompt=prompt, num_inference_steps=1, guidance_scale=0.0).images[0]\n",
        "    return image\n",
        "\n",
        "# Create the Gradio interface\n",
        "interface = gr.Interface(\n",
        "    fn=generate_image,\n",
        "    inputs=gr.Textbox(lines=2, placeholder=\"Insert Text Here...\"),\n",
        "    outputs=\"image\",\n",
        "    title=\"Text-To-Image Generator by Simone Rizzo & Nick088\",\n",
        "    description=\"Write a Text to Generate an Image.\"\n",
        ")\n",
        "\n",
        "# Launch the interface\n",
        "interface.launch()"
      ],
      "metadata": {
        "id": "dm4pnmHxHSyZ"
      },
      "execution_count": null,
      "outputs": []
    }
  ]
}
