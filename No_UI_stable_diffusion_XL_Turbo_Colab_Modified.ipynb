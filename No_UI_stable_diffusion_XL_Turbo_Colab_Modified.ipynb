{
  "nbformat": 4,
  "nbformat_minor": 0,
  "metadata": {
    "colab": {
      "provenance": [],
      "gpuType": "T4",
      "include_colab_link": true
    },
    "kernelspec": {
      "name": "python3",
      "display_name": "Python 3"
    },
    "language_info": {
      "name": "python"
    },
    "accelerator": "GPU"
  },
  "cells": [
    {
      "cell_type": "markdown",
      "metadata": {
        "id": "view-in-github",
        "colab_type": "text"
      },
      "source": [
        "<a href=\"https://colab.research.google.com/github/Nick088Official/Stable-Diffusion-XL-Turbo-Google-Colab-Notebook/blob/main/No_UI_stable_diffusion_XL_Turbo_Colab_Modified.ipynb\" target=\"_parent\"><img src=\"https://colab.research.google.com/assets/colab-badge.svg\" alt=\"Open In Colab\"/></a>"
      ]
    },
    {
      "cell_type": "markdown",
      "source": [
        "Fast Text To Image AI Tool NO WEB UI\n",
        "\n",
        "Google Colab Notebook Made By **[Woctezuma](https://github.com/woctezuma)**:\n",
        "\n",
        "Google Colab Notebook Modified By **Nick088**:\n",
        "- [Youtube](https://www.youtube.com/channel/@Nick088Official)\n",
        "- [TikTok](https://www.tiktok.com/@forgotforever)\n",
        "- [Reddit](reddit.com/user/Nick088Real)\n",
        "- [Twitter](https://twitter.com/Nick088Official)\n",
        "- [Discord](https://discord.com/channels/@me/911742715019001897)\n",
        "\n"
      ],
      "metadata": {
        "id": "xrPcnMp4cZt6"
      }
    },
    {
      "cell_type": "markdown",
      "source": [
        "**INSTALL STABLE DIFFUSION XL TURBO**"
      ],
      "metadata": {
        "id": "fEQ0q7CMbqJx"
      }
    },
    {
      "cell_type": "code",
      "source": [
        "%pip install --quiet --upgrade diffusers transformers accelerate mediapy\n",
        "\n",
        "import mediapy as media\n",
        "import random\n",
        "import sys\n",
        "import torch\n",
        "\n",
        "from diffusers import AutoPipelineForText2Image\n",
        "\n",
        "pipe = AutoPipelineForText2Image.from_pretrained(\n",
        "    \"stabilityai/sdxl-turbo\",\n",
        "    torch_dtype=torch.float16,\n",
        "    use_safetensors=True,\n",
        "    variant=\"fp16\",\n",
        "    )\n",
        "\n",
        "pipe = pipe.to(\"cuda\")"
      ],
      "metadata": {
        "id": "ufD_d64nr08H"
      },
      "execution_count": null,
      "outputs": []
    },
    {
      "cell_type": "markdown",
      "source": [
        "**RUN STABLE DIFFUSION XL TURBO**\n",
        "\n",
        "Put your prompt to generate the image below in the code in the \"\""
      ],
      "metadata": {
        "id": "WnFVRmaCbzhw"
      }
    },
    {
      "cell_type": "code",
      "source": [
        "prompt = \"a photo of Pikachu fine dining with a view to the Eiffel Tower\"\n",
        "seed = random.randint(0, sys.maxsize)\n",
        "\n",
        "num_inference_steps = 4\n",
        "\n",
        "images = pipe(\n",
        "    prompt = prompt,\n",
        "    guidance_scale = 0.0,\n",
        "    num_inference_steps = num_inference_steps,\n",
        "    generator = torch.Generator(\"cuda\").manual_seed(seed),\n",
        "    ).images\n",
        "\n",
        "print(f\"Prompt:\\t{prompt}\\nSeed:\\t{seed}\")\n",
        "media.show_images(images)\n",
        "images[0].save(\"output.jpg\")"
      ],
      "metadata": {
        "id": "AUc4QJfE-uR9"
      },
      "execution_count": null,
      "outputs": []
    }
  ]
}