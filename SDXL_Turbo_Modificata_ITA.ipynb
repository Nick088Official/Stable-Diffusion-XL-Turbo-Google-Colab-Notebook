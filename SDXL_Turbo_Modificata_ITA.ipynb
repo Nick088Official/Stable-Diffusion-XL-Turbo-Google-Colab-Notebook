{
  "nbformat": 4,
  "nbformat_minor": 0,
  "metadata": {
    "colab": {
      "provenance": [],
      "gpuType": "T4",
      "include_colab_link": true
    },
    "kernelspec": {
      "name": "python3",
      "display_name": "Python 3"
    },
    "language_info": {
      "name": "python"
    },
    "accelerator": "GPU"
  },
  "cells": [
    {
      "cell_type": "markdown",
      "metadata": {
        "id": "view-in-github",
        "colab_type": "text"
      },
      "source": [
        "<a href=\"https://colab.research.google.com/github/Nick088Official/Stable-Diffusion-XL-Turbo-UI-Google-Colab-Notebook/blob/main/SDXL_Turbo_Modificata_ITA.ipynb\" target=\"_parent\"><img src=\"https://colab.research.google.com/assets/colab-badge.svg\" alt=\"Open In Colab\"/></a>"
      ]
    },
    {
      "cell_type": "markdown",
      "source": [
        "# SDXL - Turbo Demo da Simone Rizzo e modificata da Nick088\n",
        "Questo notebook è una demo per provare il nuovo modello text-to-image real time di Stability AI, SDXL-turbo di [Stability AI](https://stability.ai/news/stability-ai-sdxl-turbo).\n",
        "\n",
        "**Nota bene**: imposta la scheda video gratuita T4 da Modifica -> Impostazioni blocco note -> T4 GPU\n",
        "\n",
        "La demo è stata realizzata da **Simone Rizzo**:\n",
        "- [Youtube](https://www.youtube.com/channel/UCbMlkb79E12CwveGAtdFj-A)\n",
        "- [Linkedin](https://www.linkedin.com/in/simone-rizzo-9851b7147/)\n",
        "- [TikTok](https://www.tiktok.com/@simonerizzo98)\n",
        "\n",
        "Modificata da **Nick088**:\n",
        "- [Youtube](https://www.youtube.com/channel/@Nick088Official)\n",
        "- [TikTok](https://www.tiktok.com/@forgotforever)\n",
        "- [Reddit](reddit.com/user/Nick088Real)\n",
        "- [Twitter](https://twitter.com/Nick088Official)\n",
        "- [Discord](https://discord.com/channels/@me/911742715019001897)\n",
        "\n",
        "Seguimi e lascia un like sui miei social 😜\n"
      ],
      "metadata": {
        "id": "Ziad-5T4NEO_"
      }
    },
    {
      "cell_type": "markdown",
      "metadata": {
        "id": "vsfWtUCSGrrl"
      },
      "source": [
        "**IINSTALLA STABLE DIFFUSION XL TURBO**"
      ]
    },
    {
      "cell_type": "code",
      "source": [
        "!pip install --upgrade torch\n",
        "! pip install gradio\n",
        "! pip install diffusers transformers accelerate --upgrade"
      ],
      "metadata": {
        "id": "reJI4Q9TKO1f"
      },
      "execution_count": null,
      "outputs": []
    },
    {
      "cell_type": "markdown",
      "source": [
        "Nel caso fosse necessario riavviate il runtime: Runtime -> riavvia runtime!"
      ],
      "metadata": {
        "id": "SNVcZz_EM_Ko"
      }
    },
    {
      "cell_type": "markdown",
      "metadata": {
        "id": "Y6Y7uof5QWBP"
      },
      "source": [
        "**ESEGUIRE STABLE DIFFUSION XL TURBO**\n",
        "\n",
        "Alla fine apparira l'UI di Gradio:\n",
        "\n",
        "Scrivi il tuo Testo in Prompt e Clicca Submit per Convertirlo in Immagine\n",
        "\n",
        "Clicca Clear per Cancellare l'Input (Testo) e l'Output (Immagine)"
      ]
    },
    {
      "cell_type": "code",
      "source": [
        "from diffusers import AutoPipelineForText2Image\n",
        "import torch\n",
        "import gradio as gr\n",
        "\n",
        "# Initialize the pipeline and download the model\n",
        "pipe = AutoPipelineForText2Image.from_pretrained(\"stabilityai/sdxl-turbo\", torch_dtype=torch.float16, variant=\"fp16\")\n",
        "pipe.to(\"cuda\")\n",
        "\n",
        "# Define the image generation function\n",
        "def generate_image(prompt):\n",
        "    image = pipe(prompt=prompt, num_inference_steps=1, guidance_scale=0.0).images[0]\n",
        "    return image\n",
        "\n",
        "# Create the Gradio interface\n",
        "interface = gr.Interface(\n",
        "    fn=generate_image,\n",
        "    inputs=gr.Textbox(lines=2, placeholder=\"Scrivi il tuo testo qua...\"),\n",
        "    outputs=\"immagine\",\n",
        "    title=\"Generatore da Testo a Immagine di Simone Rizzo e Nick088\",\n",
        "    description=\"Inserisci un testo per generare una immagine: Scrivi il tuo Testo in Prompt e Clicca Submit per Convertirlo in Immagine. Clicca Clear per Cancellare l'Input (Testo) e l'Output (Immagine) \"\n",
        ")\n",
        "\n",
        "# Launch the interface\n",
        "interface.launch()"
      ],
      "metadata": {
        "id": "dm4pnmHxHSyZ"
      },
      "execution_count": null,
      "outputs": []
    }
  ]
}